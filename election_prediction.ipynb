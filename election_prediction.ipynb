{
 "cells": [
  {
   "cell_type": "code",
   "execution_count": 1,
   "id": "8ba49e07",
   "metadata": {},
   "outputs": [],
   "source": [
    "import pandas as pd"
   ]
  },
  {
   "cell_type": "code",
   "execution_count": 4,
   "id": "dcaae9b1",
   "metadata": {},
   "outputs": [],
   "source": [
    "df =pd.read_csv('election.csv')"
   ]
  },
  {
   "cell_type": "code",
   "execution_count": 5,
   "id": "405197ff",
   "metadata": {},
   "outputs": [
    {
     "data": {
      "text/html": [
       "<div>\n",
       "<style scoped>\n",
       "    .dataframe tbody tr th:only-of-type {\n",
       "        vertical-align: middle;\n",
       "    }\n",
       "\n",
       "    .dataframe tbody tr th {\n",
       "        vertical-align: top;\n",
       "    }\n",
       "\n",
       "    .dataframe thead th {\n",
       "        text-align: right;\n",
       "    }\n",
       "</style>\n",
       "<table border=\"1\" class=\"dataframe\">\n",
       "  <thead>\n",
       "    <tr style=\"text-align: right;\">\n",
       "      <th></th>\n",
       "      <th>id</th>\n",
       "      <th>clean_text</th>\n",
       "      <th>polarity</th>\n",
       "      <th>place</th>\n",
       "    </tr>\n",
       "  </thead>\n",
       "  <tbody>\n",
       "    <tr>\n",
       "      <th>0</th>\n",
       "      <td>1.11772E+18</td>\n",
       "      <td>RT chitraSD Jogging RahulGandhi ’ memory famil...</td>\n",
       "      <td>0</td>\n",
       "      <td>Madras</td>\n",
       "    </tr>\n",
       "    <tr>\n",
       "      <th>1</th>\n",
       "      <td>1118061974292533249</td>\n",
       "      <td>AAP INC want alliance stop division Anti-Modi ...</td>\n",
       "      <td>0</td>\n",
       "      <td>NaN</td>\n",
       "    </tr>\n",
       "    <tr>\n",
       "      <th>2</th>\n",
       "      <td>1117870131969810432</td>\n",
       "      <td>RT pankaj_shankar She priyankagandhi slams Mod...</td>\n",
       "      <td>0</td>\n",
       "      <td>NaN</td>\n",
       "    </tr>\n",
       "    <tr>\n",
       "      <th>3</th>\n",
       "      <td>1.1177E+18</td>\n",
       "      <td>RT airnewsalerts SC says RahulGandhi 's remark...</td>\n",
       "      <td>0</td>\n",
       "      <td>New Delhi</td>\n",
       "    </tr>\n",
       "    <tr>\n",
       "      <th>4</th>\n",
       "      <td>1117850484327366656</td>\n",
       "      <td>RT sachinsingh1010 75 year old Govindraj kille...</td>\n",
       "      <td>0</td>\n",
       "      <td>New Delhi Varanasi</td>\n",
       "    </tr>\n",
       "  </tbody>\n",
       "</table>\n",
       "</div>"
      ],
      "text/plain": [
       "                    id                                         clean_text  \\\n",
       "0          1.11772E+18  RT chitraSD Jogging RahulGandhi ’ memory famil...   \n",
       "1  1118061974292533249  AAP INC want alliance stop division Anti-Modi ...   \n",
       "2  1117870131969810432  RT pankaj_shankar She priyankagandhi slams Mod...   \n",
       "3           1.1177E+18  RT airnewsalerts SC says RahulGandhi 's remark...   \n",
       "4  1117850484327366656  RT sachinsingh1010 75 year old Govindraj kille...   \n",
       "\n",
       "   polarity                place  \n",
       "0         0               Madras  \n",
       "1         0                  NaN  \n",
       "2         0                  NaN  \n",
       "3         0            New Delhi  \n",
       "4         0  New Delhi Varanasi   "
      ]
     },
     "execution_count": 5,
     "metadata": {},
     "output_type": "execute_result"
    }
   ],
   "source": [
    "df.head()"
   ]
  },
  {
   "cell_type": "code",
   "execution_count": 7,
   "id": "2e25bd02",
   "metadata": {},
   "outputs": [],
   "source": [
    "ndf=df.drop(['id'],axis=1)"
   ]
  },
  {
   "cell_type": "code",
   "execution_count": 8,
   "id": "7ad0064a",
   "metadata": {},
   "outputs": [
    {
     "data": {
      "text/html": [
       "<div>\n",
       "<style scoped>\n",
       "    .dataframe tbody tr th:only-of-type {\n",
       "        vertical-align: middle;\n",
       "    }\n",
       "\n",
       "    .dataframe tbody tr th {\n",
       "        vertical-align: top;\n",
       "    }\n",
       "\n",
       "    .dataframe thead th {\n",
       "        text-align: right;\n",
       "    }\n",
       "</style>\n",
       "<table border=\"1\" class=\"dataframe\">\n",
       "  <thead>\n",
       "    <tr style=\"text-align: right;\">\n",
       "      <th></th>\n",
       "      <th>clean_text</th>\n",
       "      <th>polarity</th>\n",
       "      <th>place</th>\n",
       "    </tr>\n",
       "  </thead>\n",
       "  <tbody>\n",
       "    <tr>\n",
       "      <th>0</th>\n",
       "      <td>RT chitraSD Jogging RahulGandhi ’ memory famil...</td>\n",
       "      <td>0</td>\n",
       "      <td>Madras</td>\n",
       "    </tr>\n",
       "    <tr>\n",
       "      <th>1</th>\n",
       "      <td>AAP INC want alliance stop division Anti-Modi ...</td>\n",
       "      <td>0</td>\n",
       "      <td>NaN</td>\n",
       "    </tr>\n",
       "    <tr>\n",
       "      <th>2</th>\n",
       "      <td>RT pankaj_shankar She priyankagandhi slams Mod...</td>\n",
       "      <td>0</td>\n",
       "      <td>NaN</td>\n",
       "    </tr>\n",
       "    <tr>\n",
       "      <th>3</th>\n",
       "      <td>RT airnewsalerts SC says RahulGandhi 's remark...</td>\n",
       "      <td>0</td>\n",
       "      <td>New Delhi</td>\n",
       "    </tr>\n",
       "    <tr>\n",
       "      <th>4</th>\n",
       "      <td>RT sachinsingh1010 75 year old Govindraj kille...</td>\n",
       "      <td>0</td>\n",
       "      <td>New Delhi Varanasi</td>\n",
       "    </tr>\n",
       "    <tr>\n",
       "      <th>...</th>\n",
       "      <td>...</td>\n",
       "      <td>...</td>\n",
       "      <td>...</td>\n",
       "    </tr>\n",
       "    <tr>\n",
       "      <th>10360</th>\n",
       "      <td>RT munavvarshihab Considering present situatio...</td>\n",
       "      <td>1</td>\n",
       "      <td>Kozhikode, India</td>\n",
       "    </tr>\n",
       "    <tr>\n",
       "      <th>10361</th>\n",
       "      <td>RahulGandhi first term implementation nyaay ht...</td>\n",
       "      <td>1</td>\n",
       "      <td>Karimnagar, India</td>\n",
       "    </tr>\n",
       "    <tr>\n",
       "      <th>10362</th>\n",
       "      <td>RT gossiper_ Conspiracy Telangana Lok Sabha Po...</td>\n",
       "      <td>1</td>\n",
       "      <td>Guntur, AP</td>\n",
       "    </tr>\n",
       "    <tr>\n",
       "      <th>10363</th>\n",
       "      <td>RT MODIfiedTamilan சூப்பர் பிரதமர் மோடி மதுரை ...</td>\n",
       "      <td>0</td>\n",
       "      <td>NaN</td>\n",
       "    </tr>\n",
       "    <tr>\n",
       "      <th>10364</th>\n",
       "      <td>RT farooq_pm Killing innocent civilian LoC rep...</td>\n",
       "      <td>1</td>\n",
       "      <td>Islamabad, Mirpur,Muzaffarabad</td>\n",
       "    </tr>\n",
       "  </tbody>\n",
       "</table>\n",
       "<p>10365 rows × 3 columns</p>\n",
       "</div>"
      ],
      "text/plain": [
       "                                              clean_text  polarity  \\\n",
       "0      RT chitraSD Jogging RahulGandhi ’ memory famil...         0   \n",
       "1      AAP INC want alliance stop division Anti-Modi ...         0   \n",
       "2      RT pankaj_shankar She priyankagandhi slams Mod...         0   \n",
       "3      RT airnewsalerts SC says RahulGandhi 's remark...         0   \n",
       "4      RT sachinsingh1010 75 year old Govindraj kille...         0   \n",
       "...                                                  ...       ...   \n",
       "10360  RT munavvarshihab Considering present situatio...         1   \n",
       "10361  RahulGandhi first term implementation nyaay ht...         1   \n",
       "10362  RT gossiper_ Conspiracy Telangana Lok Sabha Po...         1   \n",
       "10363  RT MODIfiedTamilan சூப்பர் பிரதமர் மோடி மதுரை ...         0   \n",
       "10364  RT farooq_pm Killing innocent civilian LoC rep...         1   \n",
       "\n",
       "                                place  \n",
       "0                              Madras  \n",
       "1                                 NaN  \n",
       "2                                 NaN  \n",
       "3                           New Delhi  \n",
       "4                 New Delhi Varanasi   \n",
       "...                               ...  \n",
       "10360                Kozhikode, India  \n",
       "10361               Karimnagar, India  \n",
       "10362                      Guntur, AP  \n",
       "10363                             NaN  \n",
       "10364  Islamabad, Mirpur,Muzaffarabad  \n",
       "\n",
       "[10365 rows x 3 columns]"
      ]
     },
     "execution_count": 8,
     "metadata": {},
     "output_type": "execute_result"
    }
   ],
   "source": [
    "ndf"
   ]
  },
  {
   "cell_type": "code",
   "execution_count": 9,
   "id": "139e0ab5",
   "metadata": {},
   "outputs": [],
   "source": [
    "summed_df = ndf.groupby('place').sum()"
   ]
  },
  {
   "cell_type": "code",
   "execution_count": 11,
   "id": "1044fd72",
   "metadata": {},
   "outputs": [
    {
     "data": {
      "text/html": [
       "<div>\n",
       "<style scoped>\n",
       "    .dataframe tbody tr th:only-of-type {\n",
       "        vertical-align: middle;\n",
       "    }\n",
       "\n",
       "    .dataframe tbody tr th {\n",
       "        vertical-align: top;\n",
       "    }\n",
       "\n",
       "    .dataframe thead th {\n",
       "        text-align: right;\n",
       "    }\n",
       "</style>\n",
       "<table border=\"1\" class=\"dataframe\">\n",
       "  <thead>\n",
       "    <tr style=\"text-align: right;\">\n",
       "      <th></th>\n",
       "      <th>clean_text</th>\n",
       "      <th>polarity</th>\n",
       "    </tr>\n",
       "    <tr>\n",
       "      <th>place</th>\n",
       "      <th></th>\n",
       "      <th></th>\n",
       "    </tr>\n",
       "  </thead>\n",
       "  <tbody>\n",
       "    <tr>\n",
       "      <th>BINDEKHALPUR,INDIA</th>\n",
       "      <td>RT drshamamohd Why EC taken action PM Modi amp...</td>\n",
       "      <td>2</td>\n",
       "    </tr>\n",
       "    <tr>\n",
       "      <th>India</th>\n",
       "      <td>RT top_gun55 IYC RahulGandhi priyankagandhi Ra...</td>\n",
       "      <td>8</td>\n",
       "    </tr>\n",
       "    <tr>\n",
       "      <th>Instagram: @advosushildixit</th>\n",
       "      <td>Appointed Chairman Legal Dept Congress.. INC I...</td>\n",
       "      <td>8</td>\n",
       "    </tr>\n",
       "    <tr>\n",
       "      <th>Lucknow,Uttar Pradesh, India</th>\n",
       "      <td>Silence women politicians Azam Khan 's lewd .....</td>\n",
       "      <td>0</td>\n",
       "    </tr>\n",
       "    <tr>\n",
       "      <th>Rover..</th>\n",
       "      <td>RT SudheenKulkarni Has use kind foul language ...</td>\n",
       "      <td>2</td>\n",
       "    </tr>\n",
       "  </tbody>\n",
       "</table>\n",
       "</div>"
      ],
      "text/plain": [
       "                                                                      clean_text  \\\n",
       "place                                                                              \n",
       " BINDEKHALPUR,INDIA            RT drshamamohd Why EC taken action PM Modi amp...   \n",
       " India                         RT top_gun55 IYC RahulGandhi priyankagandhi Ra...   \n",
       " Instagram: @advosushildixit   Appointed Chairman Legal Dept Congress.. INC I...   \n",
       " Lucknow,Uttar Pradesh, India  Silence women politicians Azam Khan 's lewd .....   \n",
       " Rover..                       RT SudheenKulkarni Has use kind foul language ...   \n",
       "\n",
       "                               polarity  \n",
       "place                                    \n",
       " BINDEKHALPUR,INDIA                   2  \n",
       " India                                8  \n",
       " Instagram: @advosushildixit          8  \n",
       " Lucknow,Uttar Pradesh, India         0  \n",
       " Rover..                              2  "
      ]
     },
     "execution_count": 11,
     "metadata": {},
     "output_type": "execute_result"
    }
   ],
   "source": [
    "summed_df.head()"
   ]
  },
  {
   "cell_type": "code",
   "execution_count": 22,
   "id": "06081a92",
   "metadata": {},
   "outputs": [],
   "source": [
    "ndf = ndf.astype(str)"
   ]
  },
  {
   "cell_type": "code",
   "execution_count": 24,
   "id": "bae143ec",
   "metadata": {},
   "outputs": [
    {
     "name": "stderr",
     "output_type": "stream",
     "text": [
      "[nltk_data] Downloading package wordnet to\n",
      "[nltk_data]     C:\\Users\\KIIT\\AppData\\Roaming\\nltk_data...\n",
      "[nltk_data]   Package wordnet is already up-to-date!\n",
      "[nltk_data] Downloading package sentiwordnet to\n",
      "[nltk_data]     C:\\Users\\KIIT\\AppData\\Roaming\\nltk_data...\n",
      "[nltk_data]   Package sentiwordnet is already up-to-date!\n",
      "[nltk_data] Downloading package stopwords to\n",
      "[nltk_data]     C:\\Users\\KIIT\\AppData\\Roaming\\nltk_data...\n",
      "[nltk_data]   Package stopwords is already up-to-date!\n",
      "[nltk_data] Downloading package punkt to\n",
      "[nltk_data]     C:\\Users\\KIIT\\AppData\\Roaming\\nltk_data...\n",
      "[nltk_data]   Package punkt is already up-to-date!\n"
     ]
    },
    {
     "data": {
      "text/plain": [
       "True"
      ]
     },
     "execution_count": 24,
     "metadata": {},
     "output_type": "execute_result"
    }
   ],
   "source": [
    "import nltk\n",
    "nltk.download('wordnet')\n",
    "nltk.download('sentiwordnet')\n",
    "nltk.download('stopwords')\n",
    "nltk.download('punkt')\n"
   ]
  },
  {
   "cell_type": "code",
   "execution_count": 25,
   "id": "edc41366",
   "metadata": {},
   "outputs": [],
   "source": [
    "import re\n",
    "from nltk.corpus import stopwords\n",
    "from nltk.stem import WordNetLemmatizer\n",
    "from nltk.tokenize import word_tokenize"
   ]
  },
  {
   "cell_type": "code",
   "execution_count": 26,
   "id": "16b9c857",
   "metadata": {},
   "outputs": [],
   "source": [
    "def clean_text(text):\n",
    "    # Remove URLs\n",
    "    text = re.sub(r\"http\\S+|www\\S+|https\\S+\", '', text, flags=re.MULTILINE)\n",
    "    # Remove user @ references and '#' from tweet\n",
    "    text = re.sub(r'\\@\\w+|\\#','', text)\n",
    "    # Remove punctuation\n",
    "    text = re.sub(r'[^\\w\\s]', '', text)\n",
    "    # Tokenize the text\n",
    "    tokens = word_tokenize(text)\n",
    "    # Remove stopwords\n",
    "    stop_words = set(stopwords.words('english'))\n",
    "    tokens = [token for token in tokens if token.lower() not in stop_words]\n",
    "    # Lemmatization\n",
    "    lemmatizer = WordNetLemmatizer()\n",
    "    tokens = [lemmatizer.lemmatize(token, pos='v') for token in tokens]  # Using verb pos for lemmatization\n",
    "    # Convert tokens back to string\n",
    "    cleaned_text = ' '.join(tokens)\n",
    "    return cleaned_text"
   ]
  },
  {
   "cell_type": "code",
   "execution_count": 27,
   "id": "272cfbfb",
   "metadata": {},
   "outputs": [
    {
     "name": "stdout",
     "output_type": "stream",
     "text": [
      "                                        cleaned_text\n",
      "0  South India 2024 Loksabha Opinion Poll 132 sea...\n",
      "1  Veteran actor Nana Patekar say alternative BJP...\n",
      "2  South India BJP 2019 Loksabha Karnataka 25 Tel...\n",
      "3               Issh baar 357 seat Loksabha election\n",
      "4  Total number time MMS lok sabha seat ZERO Henc...\n"
     ]
    }
   ],
   "source": [
    "ndf['cleaned_text'] = ndf['text'].apply(clean_text)\n",
    "\n",
    "# Now ndf['cleaned_text'] is the cleaned column\n",
    "print(ndf[['cleaned_text']].head())"
   ]
  },
  {
   "cell_type": "code",
   "execution_count": 28,
   "id": "568f23da",
   "metadata": {},
   "outputs": [
    {
     "data": {
      "text/html": [
       "<div>\n",
       "<style scoped>\n",
       "    .dataframe tbody tr th:only-of-type {\n",
       "        vertical-align: middle;\n",
       "    }\n",
       "\n",
       "    .dataframe tbody tr th {\n",
       "        vertical-align: top;\n",
       "    }\n",
       "\n",
       "    .dataframe thead th {\n",
       "        text-align: right;\n",
       "    }\n",
       "</style>\n",
       "<table border=\"1\" class=\"dataframe\">\n",
       "  <thead>\n",
       "    <tr style=\"text-align: right;\">\n",
       "      <th></th>\n",
       "      <th>text</th>\n",
       "      <th>cleaned_text</th>\n",
       "    </tr>\n",
       "  </thead>\n",
       "  <tbody>\n",
       "    <tr>\n",
       "      <th>0</th>\n",
       "      <td>South India 2024 Loksabha Opinion Poll 132 sea...</td>\n",
       "      <td>South India 2024 Loksabha Opinion Poll 132 sea...</td>\n",
       "    </tr>\n",
       "    <tr>\n",
       "      <th>1</th>\n",
       "      <td>Veteran actor Nana Patekar says, \"There is no ...</td>\n",
       "      <td>Veteran actor Nana Patekar say alternative BJP...</td>\n",
       "    </tr>\n",
       "    <tr>\n",
       "      <th>2</th>\n",
       "      <td>South India BJP 2019 Loksabha Karnataka 25 Tel...</td>\n",
       "      <td>South India BJP 2019 Loksabha Karnataka 25 Tel...</td>\n",
       "    </tr>\n",
       "    <tr>\n",
       "      <th>3</th>\n",
       "      <td>Issh baar 357 seats in Loksabha election.</td>\n",
       "      <td>Issh baar 357 seat Loksabha election</td>\n",
       "    </tr>\n",
       "    <tr>\n",
       "      <th>4</th>\n",
       "      <td>Total number of times MMS won his own lok sabh...</td>\n",
       "      <td>Total number time MMS lok sabha seat ZERO Henc...</td>\n",
       "    </tr>\n",
       "  </tbody>\n",
       "</table>\n",
       "</div>"
      ],
      "text/plain": [
       "                                                text  \\\n",
       "0  South India 2024 Loksabha Opinion Poll 132 sea...   \n",
       "1  Veteran actor Nana Patekar says, \"There is no ...   \n",
       "2  South India BJP 2019 Loksabha Karnataka 25 Tel...   \n",
       "3          Issh baar 357 seats in Loksabha election.   \n",
       "4  Total number of times MMS won his own lok sabh...   \n",
       "\n",
       "                                        cleaned_text  \n",
       "0  South India 2024 Loksabha Opinion Poll 132 sea...  \n",
       "1  Veteran actor Nana Patekar say alternative BJP...  \n",
       "2  South India BJP 2019 Loksabha Karnataka 25 Tel...  \n",
       "3               Issh baar 357 seat Loksabha election  \n",
       "4  Total number time MMS lok sabha seat ZERO Henc...  "
      ]
     },
     "execution_count": 28,
     "metadata": {},
     "output_type": "execute_result"
    }
   ],
   "source": [
    "ndf.head()"
   ]
  },
  {
   "cell_type": "code",
   "execution_count": 29,
   "id": "00cb8b33",
   "metadata": {},
   "outputs": [
    {
     "name": "stderr",
     "output_type": "stream",
     "text": [
      "[nltk_data] Downloading package averaged_perceptron_tagger to\n",
      "[nltk_data]     C:\\Users\\KIIT\\AppData\\Roaming\\nltk_data...\n",
      "[nltk_data]   Package averaged_perceptron_tagger is already up-to-\n",
      "[nltk_data]       date!\n",
      "[nltk_data] Downloading package sentiwordnet to\n",
      "[nltk_data]     C:\\Users\\KIIT\\AppData\\Roaming\\nltk_data...\n",
      "[nltk_data]   Package sentiwordnet is already up-to-date!\n"
     ]
    },
    {
     "data": {
      "text/plain": [
       "True"
      ]
     },
     "execution_count": 29,
     "metadata": {},
     "output_type": "execute_result"
    }
   ],
   "source": [
    "import nltk\n",
    "nltk.download('averaged_perceptron_tagger')\n",
    "nltk.download('sentiwordnet')\n"
   ]
  },
  {
   "cell_type": "code",
   "execution_count": 30,
   "id": "56f9284e",
   "metadata": {},
   "outputs": [
    {
     "name": "stdout",
     "output_type": "stream",
     "text": [
      "{'positivity': 0.025, 'negativity': 0.175, 'objectivity': 0.8}\n"
     ]
    }
   ],
   "source": [
    "from nltk.corpus import sentiwordnet as swn\n",
    "from nltk.corpus import wordnet as wn\n",
    "from nltk import pos_tag\n",
    "from nltk.tokenize import word_tokenize\n",
    "\n",
    "def get_wordnet_pos(treebank_tag):\n",
    "    \"\"\"Converts treebank tags to wordnet tags.\"\"\"\n",
    "    if treebank_tag.startswith('J'):\n",
    "        return wn.ADJ\n",
    "    elif treebank_tag.startswith('V'):\n",
    "        return wn.VERB\n",
    "    elif treebank_tag.startswith('N'):\n",
    "        return wn.NOUN\n",
    "    elif treebank_tag.startswith('R'):\n",
    "        return wn.ADV\n",
    "    else:\n",
    "        return None\n",
    "\n",
    "def sentiment_score(text):\n",
    "    \"\"\"Compute the sentiment score of the input text.\"\"\"\n",
    "    tokens = word_tokenize(text)\n",
    "    tagged = pos_tag(tokens)\n",
    "    \n",
    "    pos_score = neg_score = obj_score = 0\n",
    "    valid_tokens = 0\n",
    "    \n",
    "    for word, tag in tagged:\n",
    "        wn_tag = get_wordnet_pos(tag)\n",
    "        if wn_tag not in (wn.NOUN, wn.ADJ, wn.VERB, wn.ADV):\n",
    "            continue\n",
    "        \n",
    "        lemma = wn.morphy(word, wn_tag)\n",
    "        if not lemma:\n",
    "            continue\n",
    "        \n",
    "        synsets = wn.synsets(lemma, pos=wn_tag)\n",
    "        if not synsets:\n",
    "            continue\n",
    "        \n",
    "        # Take the first sense, the most common\n",
    "        synset = synsets[0]\n",
    "        swn_synset = swn.senti_synset(synset.name())\n",
    "        \n",
    "        pos_score += swn_synset.pos_score()\n",
    "        neg_score += swn_synset.neg_score()\n",
    "        obj_score += swn_synset.obj_score()\n",
    "        valid_tokens += 1\n",
    "    \n",
    "    if valid_tokens == 0:\n",
    "        return {\"positivity\": 0, \"negativity\": 0, \"objectivity\": 0}\n",
    "    \n",
    "    # Aggregate scores\n",
    "    return {\n",
    "        \"positivity\": pos_score / valid_tokens,\n",
    "        \"negativity\": neg_score / valid_tokens,\n",
    "        \"objectivity\": obj_score / valid_tokens\n",
    "    }\n",
    "\n",
    "# Example usage\n",
    "text = \"This is an amazing movie with great acting, but a poor script.\"\n",
    "cleaned_text = clean_text(text)  # Assuming 'clean_text' is the function you've defined earlier for cleaning\n",
    "scores = sentiment_score(cleaned_text)\n",
    "\n",
    "print(scores)\n"
   ]
  },
  {
   "cell_type": "code",
   "execution_count": 31,
   "id": "1141ac78",
   "metadata": {},
   "outputs": [
    {
     "data": {
      "text/html": [
       "<div>\n",
       "<style scoped>\n",
       "    .dataframe tbody tr th:only-of-type {\n",
       "        vertical-align: middle;\n",
       "    }\n",
       "\n",
       "    .dataframe tbody tr th {\n",
       "        vertical-align: top;\n",
       "    }\n",
       "\n",
       "    .dataframe thead th {\n",
       "        text-align: right;\n",
       "    }\n",
       "</style>\n",
       "<table border=\"1\" class=\"dataframe\">\n",
       "  <thead>\n",
       "    <tr style=\"text-align: right;\">\n",
       "      <th></th>\n",
       "      <th>text</th>\n",
       "      <th>cleaned_text</th>\n",
       "    </tr>\n",
       "  </thead>\n",
       "  <tbody>\n",
       "    <tr>\n",
       "      <th>0</th>\n",
       "      <td>South India 2024 Loksabha Opinion Poll 132 sea...</td>\n",
       "      <td>South India 2024 Loksabha Opinion Poll 132 sea...</td>\n",
       "    </tr>\n",
       "    <tr>\n",
       "      <th>1</th>\n",
       "      <td>Veteran actor Nana Patekar says, \"There is no ...</td>\n",
       "      <td>Veteran actor Nana Patekar say alternative BJP...</td>\n",
       "    </tr>\n",
       "    <tr>\n",
       "      <th>2</th>\n",
       "      <td>South India BJP 2019 Loksabha Karnataka 25 Tel...</td>\n",
       "      <td>South India BJP 2019 Loksabha Karnataka 25 Tel...</td>\n",
       "    </tr>\n",
       "    <tr>\n",
       "      <th>3</th>\n",
       "      <td>Issh baar 357 seats in Loksabha election.</td>\n",
       "      <td>Issh baar 357 seat Loksabha election</td>\n",
       "    </tr>\n",
       "    <tr>\n",
       "      <th>4</th>\n",
       "      <td>Total number of times MMS won his own lok sabh...</td>\n",
       "      <td>Total number time MMS lok sabha seat ZERO Henc...</td>\n",
       "    </tr>\n",
       "  </tbody>\n",
       "</table>\n",
       "</div>"
      ],
      "text/plain": [
       "                                                text  \\\n",
       "0  South India 2024 Loksabha Opinion Poll 132 sea...   \n",
       "1  Veteran actor Nana Patekar says, \"There is no ...   \n",
       "2  South India BJP 2019 Loksabha Karnataka 25 Tel...   \n",
       "3          Issh baar 357 seats in Loksabha election.   \n",
       "4  Total number of times MMS won his own lok sabh...   \n",
       "\n",
       "                                        cleaned_text  \n",
       "0  South India 2024 Loksabha Opinion Poll 132 sea...  \n",
       "1  Veteran actor Nana Patekar say alternative BJP...  \n",
       "2  South India BJP 2019 Loksabha Karnataka 25 Tel...  \n",
       "3               Issh baar 357 seat Loksabha election  \n",
       "4  Total number time MMS lok sabha seat ZERO Henc...  "
      ]
     },
     "execution_count": 31,
     "metadata": {},
     "output_type": "execute_result"
    }
   ],
   "source": [
    "ndf.head()"
   ]
  },
  {
   "cell_type": "code",
   "execution_count": 32,
   "id": "553ab809",
   "metadata": {},
   "outputs": [
    {
     "data": {
      "text/html": [
       "<div>\n",
       "<style scoped>\n",
       "    .dataframe tbody tr th:only-of-type {\n",
       "        vertical-align: middle;\n",
       "    }\n",
       "\n",
       "    .dataframe tbody tr th {\n",
       "        vertical-align: top;\n",
       "    }\n",
       "\n",
       "    .dataframe thead th {\n",
       "        text-align: right;\n",
       "    }\n",
       "</style>\n",
       "<table border=\"1\" class=\"dataframe\">\n",
       "  <thead>\n",
       "    <tr style=\"text-align: right;\">\n",
       "      <th></th>\n",
       "      <th>text</th>\n",
       "      <th>cleaned_text</th>\n",
       "      <th>positivity</th>\n",
       "      <th>negativity</th>\n",
       "      <th>objectivity</th>\n",
       "    </tr>\n",
       "  </thead>\n",
       "  <tbody>\n",
       "    <tr>\n",
       "      <th>0</th>\n",
       "      <td>South India 2024 Loksabha Opinion Poll 132 sea...</td>\n",
       "      <td>South India 2024 Loksabha Opinion Poll 132 sea...</td>\n",
       "      <td>0.100000</td>\n",
       "      <td>0.012500</td>\n",
       "      <td>0.887500</td>\n",
       "    </tr>\n",
       "    <tr>\n",
       "      <th>1</th>\n",
       "      <td>Veteran actor Nana Patekar says, \"There is no ...</td>\n",
       "      <td>Veteran actor Nana Patekar say alternative BJP...</td>\n",
       "      <td>0.125000</td>\n",
       "      <td>0.000000</td>\n",
       "      <td>0.875000</td>\n",
       "    </tr>\n",
       "    <tr>\n",
       "      <th>2</th>\n",
       "      <td>South India BJP 2019 Loksabha Karnataka 25 Tel...</td>\n",
       "      <td>South India BJP 2019 Loksabha Karnataka 25 Tel...</td>\n",
       "      <td>0.000000</td>\n",
       "      <td>0.097222</td>\n",
       "      <td>0.902778</td>\n",
       "    </tr>\n",
       "    <tr>\n",
       "      <th>3</th>\n",
       "      <td>Issh baar 357 seats in Loksabha election.</td>\n",
       "      <td>Issh baar 357 seat Loksabha election</td>\n",
       "      <td>0.000000</td>\n",
       "      <td>0.000000</td>\n",
       "      <td>1.000000</td>\n",
       "    </tr>\n",
       "    <tr>\n",
       "      <th>4</th>\n",
       "      <td>Total number of times MMS won his own lok sabh...</td>\n",
       "      <td>Total number time MMS lok sabha seat ZERO Henc...</td>\n",
       "      <td>0.046875</td>\n",
       "      <td>0.093750</td>\n",
       "      <td>0.859375</td>\n",
       "    </tr>\n",
       "  </tbody>\n",
       "</table>\n",
       "</div>"
      ],
      "text/plain": [
       "                                                text  \\\n",
       "0  South India 2024 Loksabha Opinion Poll 132 sea...   \n",
       "1  Veteran actor Nana Patekar says, \"There is no ...   \n",
       "2  South India BJP 2019 Loksabha Karnataka 25 Tel...   \n",
       "3          Issh baar 357 seats in Loksabha election.   \n",
       "4  Total number of times MMS won his own lok sabh...   \n",
       "\n",
       "                                        cleaned_text  positivity  negativity  \\\n",
       "0  South India 2024 Loksabha Opinion Poll 132 sea...    0.100000    0.012500   \n",
       "1  Veteran actor Nana Patekar say alternative BJP...    0.125000    0.000000   \n",
       "2  South India BJP 2019 Loksabha Karnataka 25 Tel...    0.000000    0.097222   \n",
       "3               Issh baar 357 seat Loksabha election    0.000000    0.000000   \n",
       "4  Total number time MMS lok sabha seat ZERO Henc...    0.046875    0.093750   \n",
       "\n",
       "   objectivity  \n",
       "0     0.887500  \n",
       "1     0.875000  \n",
       "2     0.902778  \n",
       "3     1.000000  \n",
       "4     0.859375  "
      ]
     },
     "execution_count": 32,
     "metadata": {},
     "output_type": "execute_result"
    }
   ],
   "source": [
    "import pandas as pd\n",
    "from nltk.tokenize import word_tokenize\n",
    "from nltk import pos_tag\n",
    "from nltk.corpus import sentiwordnet as swn, wordnet as wn\n",
    "\n",
    "# Ensure you've defined or imported the sentiment_score and clean_text functions\n",
    "\n",
    "# Assuming ndf is your DataFrame and it has a column 'cleaned_text' filled with cleaned tweets\n",
    "\n",
    "# Apply the sentiment_score function\n",
    "results = ndf['cleaned_text'].apply(sentiment_score)\n",
    "\n",
    "# The results variable is now a Series of dictionaries, \n",
    "# we want to convert this into separate DataFrame columns\n",
    "sentiment_df = pd.DataFrame(results.tolist())\n",
    "\n",
    "# Now, join this DataFrame back to the original ndf DataFrame\n",
    "ndf = pd.concat([ndf, sentiment_df], axis=1)\n",
    "\n",
    "# If you want to check the updated DataFrame structure\n",
    "ndf.head()\n"
   ]
  },
  {
   "cell_type": "code",
   "execution_count": 35,
   "id": "dede80cc",
   "metadata": {},
   "outputs": [
    {
     "data": {
      "text/html": [
       "<div>\n",
       "<style scoped>\n",
       "    .dataframe tbody tr th:only-of-type {\n",
       "        vertical-align: middle;\n",
       "    }\n",
       "\n",
       "    .dataframe tbody tr th {\n",
       "        vertical-align: top;\n",
       "    }\n",
       "\n",
       "    .dataframe thead th {\n",
       "        text-align: right;\n",
       "    }\n",
       "</style>\n",
       "<table border=\"1\" class=\"dataframe\">\n",
       "  <thead>\n",
       "    <tr style=\"text-align: right;\">\n",
       "      <th></th>\n",
       "      <th>text</th>\n",
       "      <th>cleaned_text</th>\n",
       "      <th>positivity</th>\n",
       "      <th>negativity</th>\n",
       "      <th>objectivity</th>\n",
       "      <th>sentiment_label</th>\n",
       "    </tr>\n",
       "  </thead>\n",
       "  <tbody>\n",
       "    <tr>\n",
       "      <th>0</th>\n",
       "      <td>South India 2024 Loksabha Opinion Poll 132 sea...</td>\n",
       "      <td>South India 2024 Loksabha Opinion Poll 132 sea...</td>\n",
       "      <td>0.100000</td>\n",
       "      <td>0.012500</td>\n",
       "      <td>0.887500</td>\n",
       "      <td>Neutral</td>\n",
       "    </tr>\n",
       "    <tr>\n",
       "      <th>1</th>\n",
       "      <td>Veteran actor Nana Patekar says, \"There is no ...</td>\n",
       "      <td>Veteran actor Nana Patekar say alternative BJP...</td>\n",
       "      <td>0.125000</td>\n",
       "      <td>0.000000</td>\n",
       "      <td>0.875000</td>\n",
       "      <td>Positive</td>\n",
       "    </tr>\n",
       "    <tr>\n",
       "      <th>2</th>\n",
       "      <td>South India BJP 2019 Loksabha Karnataka 25 Tel...</td>\n",
       "      <td>South India BJP 2019 Loksabha Karnataka 25 Tel...</td>\n",
       "      <td>0.000000</td>\n",
       "      <td>0.097222</td>\n",
       "      <td>0.902778</td>\n",
       "      <td>Neutral</td>\n",
       "    </tr>\n",
       "    <tr>\n",
       "      <th>3</th>\n",
       "      <td>Issh baar 357 seats in Loksabha election.</td>\n",
       "      <td>Issh baar 357 seat Loksabha election</td>\n",
       "      <td>0.000000</td>\n",
       "      <td>0.000000</td>\n",
       "      <td>1.000000</td>\n",
       "      <td>Neutral</td>\n",
       "    </tr>\n",
       "    <tr>\n",
       "      <th>4</th>\n",
       "      <td>Total number of times MMS won his own lok sabh...</td>\n",
       "      <td>Total number time MMS lok sabha seat ZERO Henc...</td>\n",
       "      <td>0.046875</td>\n",
       "      <td>0.093750</td>\n",
       "      <td>0.859375</td>\n",
       "      <td>Neutral</td>\n",
       "    </tr>\n",
       "  </tbody>\n",
       "</table>\n",
       "</div>"
      ],
      "text/plain": [
       "                                                text  \\\n",
       "0  South India 2024 Loksabha Opinion Poll 132 sea...   \n",
       "1  Veteran actor Nana Patekar says, \"There is no ...   \n",
       "2  South India BJP 2019 Loksabha Karnataka 25 Tel...   \n",
       "3          Issh baar 357 seats in Loksabha election.   \n",
       "4  Total number of times MMS won his own lok sabh...   \n",
       "\n",
       "                                        cleaned_text  positivity  negativity  \\\n",
       "0  South India 2024 Loksabha Opinion Poll 132 sea...    0.100000    0.012500   \n",
       "1  Veteran actor Nana Patekar say alternative BJP...    0.125000    0.000000   \n",
       "2  South India BJP 2019 Loksabha Karnataka 25 Tel...    0.000000    0.097222   \n",
       "3               Issh baar 357 seat Loksabha election    0.000000    0.000000   \n",
       "4  Total number time MMS lok sabha seat ZERO Henc...    0.046875    0.093750   \n",
       "\n",
       "   objectivity sentiment_label  \n",
       "0     0.887500         Neutral  \n",
       "1     0.875000        Positive  \n",
       "2     0.902778         Neutral  \n",
       "3     1.000000         Neutral  \n",
       "4     0.859375         Neutral  "
      ]
     },
     "execution_count": 35,
     "metadata": {},
     "output_type": "execute_result"
    }
   ],
   "source": [
    "def label_sentiment(row, threshold=0.1):\n",
    "    \"\"\"\n",
    "    Labels each row as 'Positive', 'Negative', or 'Neutral'.\n",
    "    Adjust the threshold according to your sentiment score distribution and analysis needs.\n",
    "    \n",
    "    Parameters:\n",
    "    - row: A DataFrame row.\n",
    "    - threshold: Minimum difference between pos and neg scores to consider the sentiment not neutral.\n",
    "    \"\"\"\n",
    "    # Adjust these conditions based on how you want to handle equal scores.\n",
    "    if abs(row['positivity'] - row['negativity']) < threshold:\n",
    "        return 'Neutral'\n",
    "    elif row['positivity'] > row['negativity']:\n",
    "        return 'Positive'\n",
    "    else:\n",
    "        return 'Negative'\n",
    "\n",
    "# Apply the labeling function to the DataFrame\n",
    "ndf['sentiment_label'] = ndf.apply(label_sentiment, axis=1)\n",
    "\n",
    "# Check the result\n",
    "ndf.head()\n"
   ]
  },
  {
   "cell_type": "code",
   "execution_count": 38,
   "id": "31310829",
   "metadata": {},
   "outputs": [],
   "source": [
    "ndf1= ndf"
   ]
  },
  {
   "cell_type": "code",
   "execution_count": 40,
   "id": "3a4ac650",
   "metadata": {},
   "outputs": [
    {
     "data": {
      "text/html": [
       "<div>\n",
       "<style scoped>\n",
       "    .dataframe tbody tr th:only-of-type {\n",
       "        vertical-align: middle;\n",
       "    }\n",
       "\n",
       "    .dataframe tbody tr th {\n",
       "        vertical-align: top;\n",
       "    }\n",
       "\n",
       "    .dataframe thead th {\n",
       "        text-align: right;\n",
       "    }\n",
       "</style>\n",
       "<table border=\"1\" class=\"dataframe\">\n",
       "  <thead>\n",
       "    <tr style=\"text-align: right;\">\n",
       "      <th></th>\n",
       "      <th>text</th>\n",
       "      <th>cleaned_text</th>\n",
       "      <th>positivity</th>\n",
       "      <th>negativity</th>\n",
       "      <th>objectivity</th>\n",
       "      <th>sentiment_label</th>\n",
       "    </tr>\n",
       "  </thead>\n",
       "  <tbody>\n",
       "    <tr>\n",
       "      <th>0</th>\n",
       "      <td>South India 2024 Loksabha Opinion Poll 132 sea...</td>\n",
       "      <td>South India 2024 Loksabha Opinion Poll 132 sea...</td>\n",
       "      <td>0.100000</td>\n",
       "      <td>0.012500</td>\n",
       "      <td>0.887500</td>\n",
       "      <td>Neutral</td>\n",
       "    </tr>\n",
       "    <tr>\n",
       "      <th>1</th>\n",
       "      <td>Veteran actor Nana Patekar says, \"There is no ...</td>\n",
       "      <td>Veteran actor Nana Patekar say alternative BJP...</td>\n",
       "      <td>0.125000</td>\n",
       "      <td>0.000000</td>\n",
       "      <td>0.875000</td>\n",
       "      <td>Positive</td>\n",
       "    </tr>\n",
       "    <tr>\n",
       "      <th>2</th>\n",
       "      <td>South India BJP 2019 Loksabha Karnataka 25 Tel...</td>\n",
       "      <td>South India BJP 2019 Loksabha Karnataka 25 Tel...</td>\n",
       "      <td>0.000000</td>\n",
       "      <td>0.097222</td>\n",
       "      <td>0.902778</td>\n",
       "      <td>Neutral</td>\n",
       "    </tr>\n",
       "    <tr>\n",
       "      <th>3</th>\n",
       "      <td>Issh baar 357 seats in Loksabha election.</td>\n",
       "      <td>Issh baar 357 seat Loksabha election</td>\n",
       "      <td>0.000000</td>\n",
       "      <td>0.000000</td>\n",
       "      <td>1.000000</td>\n",
       "      <td>Neutral</td>\n",
       "    </tr>\n",
       "    <tr>\n",
       "      <th>4</th>\n",
       "      <td>Total number of times MMS won his own lok sabh...</td>\n",
       "      <td>Total number time MMS lok sabha seat ZERO Henc...</td>\n",
       "      <td>0.046875</td>\n",
       "      <td>0.093750</td>\n",
       "      <td>0.859375</td>\n",
       "      <td>Neutral</td>\n",
       "    </tr>\n",
       "  </tbody>\n",
       "</table>\n",
       "</div>"
      ],
      "text/plain": [
       "                                                text  \\\n",
       "0  South India 2024 Loksabha Opinion Poll 132 sea...   \n",
       "1  Veteran actor Nana Patekar says, \"There is no ...   \n",
       "2  South India BJP 2019 Loksabha Karnataka 25 Tel...   \n",
       "3          Issh baar 357 seats in Loksabha election.   \n",
       "4  Total number of times MMS won his own lok sabh...   \n",
       "\n",
       "                                        cleaned_text  positivity  negativity  \\\n",
       "0  South India 2024 Loksabha Opinion Poll 132 sea...    0.100000    0.012500   \n",
       "1  Veteran actor Nana Patekar say alternative BJP...    0.125000    0.000000   \n",
       "2  South India BJP 2019 Loksabha Karnataka 25 Tel...    0.000000    0.097222   \n",
       "3               Issh baar 357 seat Loksabha election    0.000000    0.000000   \n",
       "4  Total number time MMS lok sabha seat ZERO Henc...    0.046875    0.093750   \n",
       "\n",
       "   objectivity sentiment_label  \n",
       "0     0.887500         Neutral  \n",
       "1     0.875000        Positive  \n",
       "2     0.902778         Neutral  \n",
       "3     1.000000         Neutral  \n",
       "4     0.859375         Neutral  "
      ]
     },
     "execution_count": 40,
     "metadata": {},
     "output_type": "execute_result"
    }
   ],
   "source": [
    "ndf1.head()"
   ]
  },
  {
   "cell_type": "code",
   "execution_count": 41,
   "id": "9f0dac51",
   "metadata": {},
   "outputs": [],
   "source": [
    "ndf1.drop(['text','positivity','negativity','objectivity'],axis=1,inplace=True)"
   ]
  },
  {
   "cell_type": "code",
   "execution_count": 42,
   "id": "b2d5e114",
   "metadata": {},
   "outputs": [
    {
     "data": {
      "text/html": [
       "<div>\n",
       "<style scoped>\n",
       "    .dataframe tbody tr th:only-of-type {\n",
       "        vertical-align: middle;\n",
       "    }\n",
       "\n",
       "    .dataframe tbody tr th {\n",
       "        vertical-align: top;\n",
       "    }\n",
       "\n",
       "    .dataframe thead th {\n",
       "        text-align: right;\n",
       "    }\n",
       "</style>\n",
       "<table border=\"1\" class=\"dataframe\">\n",
       "  <thead>\n",
       "    <tr style=\"text-align: right;\">\n",
       "      <th></th>\n",
       "      <th>cleaned_text</th>\n",
       "      <th>sentiment_label</th>\n",
       "    </tr>\n",
       "  </thead>\n",
       "  <tbody>\n",
       "    <tr>\n",
       "      <th>0</th>\n",
       "      <td>South India 2024 Loksabha Opinion Poll 132 sea...</td>\n",
       "      <td>Neutral</td>\n",
       "    </tr>\n",
       "    <tr>\n",
       "      <th>1</th>\n",
       "      <td>Veteran actor Nana Patekar say alternative BJP...</td>\n",
       "      <td>Positive</td>\n",
       "    </tr>\n",
       "    <tr>\n",
       "      <th>2</th>\n",
       "      <td>South India BJP 2019 Loksabha Karnataka 25 Tel...</td>\n",
       "      <td>Neutral</td>\n",
       "    </tr>\n",
       "    <tr>\n",
       "      <th>3</th>\n",
       "      <td>Issh baar 357 seat Loksabha election</td>\n",
       "      <td>Neutral</td>\n",
       "    </tr>\n",
       "    <tr>\n",
       "      <th>4</th>\n",
       "      <td>Total number time MMS lok sabha seat ZERO Henc...</td>\n",
       "      <td>Neutral</td>\n",
       "    </tr>\n",
       "  </tbody>\n",
       "</table>\n",
       "</div>"
      ],
      "text/plain": [
       "                                        cleaned_text sentiment_label\n",
       "0  South India 2024 Loksabha Opinion Poll 132 sea...         Neutral\n",
       "1  Veteran actor Nana Patekar say alternative BJP...        Positive\n",
       "2  South India BJP 2019 Loksabha Karnataka 25 Tel...         Neutral\n",
       "3               Issh baar 357 seat Loksabha election         Neutral\n",
       "4  Total number time MMS lok sabha seat ZERO Henc...         Neutral"
      ]
     },
     "execution_count": 42,
     "metadata": {},
     "output_type": "execute_result"
    }
   ],
   "source": [
    "ndf1.head()"
   ]
  },
  {
   "cell_type": "code",
   "execution_count": 43,
   "id": "8c40206b",
   "metadata": {},
   "outputs": [
    {
     "data": {
      "text/html": [
       "<div>\n",
       "<style scoped>\n",
       "    .dataframe tbody tr th:only-of-type {\n",
       "        vertical-align: middle;\n",
       "    }\n",
       "\n",
       "    .dataframe tbody tr th {\n",
       "        vertical-align: top;\n",
       "    }\n",
       "\n",
       "    .dataframe thead th {\n",
       "        text-align: right;\n",
       "    }\n",
       "</style>\n",
       "<table border=\"1\" class=\"dataframe\">\n",
       "  <thead>\n",
       "    <tr style=\"text-align: right;\">\n",
       "      <th></th>\n",
       "      <th>cleaned_text</th>\n",
       "      <th>sentiment_label</th>\n",
       "    </tr>\n",
       "  </thead>\n",
       "  <tbody>\n",
       "    <tr>\n",
       "      <th>0</th>\n",
       "      <td>South India 2024 Loksabha Opinion Poll 132 sea...</td>\n",
       "      <td>0</td>\n",
       "    </tr>\n",
       "    <tr>\n",
       "      <th>1</th>\n",
       "      <td>Veteran actor Nana Patekar say alternative BJP...</td>\n",
       "      <td>1</td>\n",
       "    </tr>\n",
       "    <tr>\n",
       "      <th>2</th>\n",
       "      <td>South India BJP 2019 Loksabha Karnataka 25 Tel...</td>\n",
       "      <td>0</td>\n",
       "    </tr>\n",
       "    <tr>\n",
       "      <th>3</th>\n",
       "      <td>Issh baar 357 seat Loksabha election</td>\n",
       "      <td>0</td>\n",
       "    </tr>\n",
       "    <tr>\n",
       "      <th>4</th>\n",
       "      <td>Total number time MMS lok sabha seat ZERO Henc...</td>\n",
       "      <td>0</td>\n",
       "    </tr>\n",
       "  </tbody>\n",
       "</table>\n",
       "</div>"
      ],
      "text/plain": [
       "                                        cleaned_text  sentiment_label\n",
       "0  South India 2024 Loksabha Opinion Poll 132 sea...                0\n",
       "1  Veteran actor Nana Patekar say alternative BJP...                1\n",
       "2  South India BJP 2019 Loksabha Karnataka 25 Tel...                0\n",
       "3               Issh baar 357 seat Loksabha election                0\n",
       "4  Total number time MMS lok sabha seat ZERO Henc...                0"
      ]
     },
     "execution_count": 43,
     "metadata": {},
     "output_type": "execute_result"
    }
   ],
   "source": [
    "# Replace 'Positive' with 1, 'Negative' with -1, and 'Neutral' with 0 in the 'sentiment_label' column\n",
    "ndf['sentiment_label'] = ndf['sentiment_label'].replace({'Positive': 1, 'Negative': -1, 'Neutral': 0})\n",
    "\n",
    "# Check the result\n",
    "ndf.head()\n"
   ]
  },
  {
   "cell_type": "code",
   "execution_count": 46,
   "id": "45c3cbf6",
   "metadata": {},
   "outputs": [
    {
     "name": "stdout",
     "output_type": "stream",
     "text": [
      "sentiment_label\n",
      " 0    874\n",
      " 1     89\n",
      "-1     37\n",
      "Name: count, dtype: int64\n"
     ]
    }
   ],
   "source": [
    "# Count the number of occurrences of each sentiment label (-1, 0, 1)\n",
    "sentiment_counts = ndf['sentiment_label'].value_counts()\n",
    "\n",
    "# Print the counts\n",
    "print(sentiment_counts)\n"
   ]
  },
  {
   "cell_type": "code",
   "execution_count": 47,
   "id": "c3a6c2c6",
   "metadata": {},
   "outputs": [
    {
     "data": {
      "text/plain": [
       "<bound method DataFrame.info of                                           cleaned_text  sentiment_label\n",
       "0    South India 2024 Loksabha Opinion Poll 132 sea...                0\n",
       "1    Veteran actor Nana Patekar say alternative BJP...                1\n",
       "2    South India BJP 2019 Loksabha Karnataka 25 Tel...                0\n",
       "3                 Issh baar 357 seat Loksabha election                0\n",
       "4    Total number time MMS lok sabha seat ZERO Henc...                0\n",
       "..                                                 ...              ...\n",
       "995  make sure Congress put dummy candidate Chevell...                0\n",
       "996  reverse TMC face huge antiincumbancy hindu vot...                0\n",
       "997  Sabseh kathin yatra INDI ALLIANCE meh Akhilesh...                0\n",
       "998  Bhai tumhari inhi harkato ki vjh se Pilot saab...                0\n",
       "999  well say leader couldnt win election person gi...                0\n",
       "\n",
       "[1000 rows x 2 columns]>"
      ]
     },
     "execution_count": 47,
     "metadata": {},
     "output_type": "execute_result"
    }
   ],
   "source": [
    "ndf1.info\n"
   ]
  },
  {
   "cell_type": "code",
   "execution_count": 48,
   "id": "ad1fcad3",
   "metadata": {},
   "outputs": [
    {
     "name": "stderr",
     "output_type": "stream",
     "text": [
      "[nltk_data] Downloading package vader_lexicon to\n",
      "[nltk_data]     C:\\Users\\KIIT\\AppData\\Roaming\\nltk_data...\n",
      "[nltk_data]   Package vader_lexicon is already up-to-date!\n"
     ]
    },
    {
     "data": {
      "text/plain": [
       "True"
      ]
     },
     "execution_count": 48,
     "metadata": {},
     "output_type": "execute_result"
    }
   ],
   "source": [
    "import nltk\n",
    "nltk.download('vader_lexicon')"
   ]
  },
  {
   "cell_type": "code",
   "execution_count": 49,
   "id": "85f4a360",
   "metadata": {},
   "outputs": [],
   "source": [
    "from nltk.sentiment import SentimentIntensityAnalyzer\n",
    "sia = SentimentIntensityAnalyzer()\n",
    "\n",
    "# Define a function to label sentiment based on compound score\n",
    "def label_vader_sentiment(row):\n",
    "    scores = sia.polarity_scores(row['cleaned_text'])\n",
    "    compound_score = scores['compound']\n",
    "    if compound_score >= 0.05:\n",
    "        return 'Positive'\n",
    "    elif compound_score <= -0.05:\n",
    "        return 'Negative'\n",
    "    else:\n",
    "        return 'Neutral'\n",
    "\n",
    "# Apply the function to your DataFrame\n",
    "ndf1['vader_sentiment'] = ndf1.apply(label_vader_sentiment, axis=1)\n"
   ]
  },
  {
   "cell_type": "code",
   "execution_count": 50,
   "id": "d54bd099",
   "metadata": {},
   "outputs": [
    {
     "data": {
      "text/html": [
       "<div>\n",
       "<style scoped>\n",
       "    .dataframe tbody tr th:only-of-type {\n",
       "        vertical-align: middle;\n",
       "    }\n",
       "\n",
       "    .dataframe tbody tr th {\n",
       "        vertical-align: top;\n",
       "    }\n",
       "\n",
       "    .dataframe thead th {\n",
       "        text-align: right;\n",
       "    }\n",
       "</style>\n",
       "<table border=\"1\" class=\"dataframe\">\n",
       "  <thead>\n",
       "    <tr style=\"text-align: right;\">\n",
       "      <th></th>\n",
       "      <th>cleaned_text</th>\n",
       "      <th>sentiment_label</th>\n",
       "      <th>vader_sentiment</th>\n",
       "    </tr>\n",
       "  </thead>\n",
       "  <tbody>\n",
       "    <tr>\n",
       "      <th>0</th>\n",
       "      <td>South India 2024 Loksabha Opinion Poll 132 sea...</td>\n",
       "      <td>0</td>\n",
       "      <td>Positive</td>\n",
       "    </tr>\n",
       "    <tr>\n",
       "      <th>1</th>\n",
       "      <td>Veteran actor Nana Patekar say alternative BJP...</td>\n",
       "      <td>1</td>\n",
       "      <td>Positive</td>\n",
       "    </tr>\n",
       "    <tr>\n",
       "      <th>2</th>\n",
       "      <td>South India BJP 2019 Loksabha Karnataka 25 Tel...</td>\n",
       "      <td>0</td>\n",
       "      <td>Positive</td>\n",
       "    </tr>\n",
       "    <tr>\n",
       "      <th>3</th>\n",
       "      <td>Issh baar 357 seat Loksabha election</td>\n",
       "      <td>0</td>\n",
       "      <td>Neutral</td>\n",
       "    </tr>\n",
       "    <tr>\n",
       "      <th>4</th>\n",
       "      <td>Total number time MMS lok sabha seat ZERO Henc...</td>\n",
       "      <td>0</td>\n",
       "      <td>Positive</td>\n",
       "    </tr>\n",
       "  </tbody>\n",
       "</table>\n",
       "</div>"
      ],
      "text/plain": [
       "                                        cleaned_text  sentiment_label  \\\n",
       "0  South India 2024 Loksabha Opinion Poll 132 sea...                0   \n",
       "1  Veteran actor Nana Patekar say alternative BJP...                1   \n",
       "2  South India BJP 2019 Loksabha Karnataka 25 Tel...                0   \n",
       "3               Issh baar 357 seat Loksabha election                0   \n",
       "4  Total number time MMS lok sabha seat ZERO Henc...                0   \n",
       "\n",
       "  vader_sentiment  \n",
       "0        Positive  \n",
       "1        Positive  \n",
       "2        Positive  \n",
       "3         Neutral  \n",
       "4        Positive  "
      ]
     },
     "execution_count": 50,
     "metadata": {},
     "output_type": "execute_result"
    }
   ],
   "source": [
    "ndf1.head()"
   ]
  },
  {
   "cell_type": "code",
   "execution_count": 51,
   "id": "046f9827",
   "metadata": {},
   "outputs": [
    {
     "data": {
      "text/html": [
       "<div>\n",
       "<style scoped>\n",
       "    .dataframe tbody tr th:only-of-type {\n",
       "        vertical-align: middle;\n",
       "    }\n",
       "\n",
       "    .dataframe tbody tr th {\n",
       "        vertical-align: top;\n",
       "    }\n",
       "\n",
       "    .dataframe thead th {\n",
       "        text-align: right;\n",
       "    }\n",
       "</style>\n",
       "<table border=\"1\" class=\"dataframe\">\n",
       "  <thead>\n",
       "    <tr style=\"text-align: right;\">\n",
       "      <th></th>\n",
       "      <th>cleaned_text</th>\n",
       "      <th>sentiment_label</th>\n",
       "      <th>vader_sentiment</th>\n",
       "    </tr>\n",
       "  </thead>\n",
       "  <tbody>\n",
       "    <tr>\n",
       "      <th>0</th>\n",
       "      <td>South India 2024 Loksabha Opinion Poll 132 sea...</td>\n",
       "      <td>0</td>\n",
       "      <td>1</td>\n",
       "    </tr>\n",
       "    <tr>\n",
       "      <th>1</th>\n",
       "      <td>Veteran actor Nana Patekar say alternative BJP...</td>\n",
       "      <td>1</td>\n",
       "      <td>1</td>\n",
       "    </tr>\n",
       "    <tr>\n",
       "      <th>2</th>\n",
       "      <td>South India BJP 2019 Loksabha Karnataka 25 Tel...</td>\n",
       "      <td>0</td>\n",
       "      <td>1</td>\n",
       "    </tr>\n",
       "    <tr>\n",
       "      <th>3</th>\n",
       "      <td>Issh baar 357 seat Loksabha election</td>\n",
       "      <td>0</td>\n",
       "      <td>0</td>\n",
       "    </tr>\n",
       "    <tr>\n",
       "      <th>4</th>\n",
       "      <td>Total number time MMS lok sabha seat ZERO Henc...</td>\n",
       "      <td>0</td>\n",
       "      <td>1</td>\n",
       "    </tr>\n",
       "  </tbody>\n",
       "</table>\n",
       "</div>"
      ],
      "text/plain": [
       "                                        cleaned_text  sentiment_label  \\\n",
       "0  South India 2024 Loksabha Opinion Poll 132 sea...                0   \n",
       "1  Veteran actor Nana Patekar say alternative BJP...                1   \n",
       "2  South India BJP 2019 Loksabha Karnataka 25 Tel...                0   \n",
       "3               Issh baar 357 seat Loksabha election                0   \n",
       "4  Total number time MMS lok sabha seat ZERO Henc...                0   \n",
       "\n",
       "   vader_sentiment  \n",
       "0                1  \n",
       "1                1  \n",
       "2                1  \n",
       "3                0  \n",
       "4                1  "
      ]
     },
     "execution_count": 51,
     "metadata": {},
     "output_type": "execute_result"
    }
   ],
   "source": [
    "# Replace 'Positive' with 1, 'Negative' with -1, and 'Neutral' with 0 in the 'sentiment_label' column\n",
    "ndf1['vader_sentiment'] = ndf1['vader_sentiment'].replace({'Positive': 1, 'Negative': -1, 'Neutral': 0})\n",
    "\n",
    "# Check the result\n",
    "ndf1.head()\n"
   ]
  },
  {
   "cell_type": "code",
   "execution_count": 52,
   "id": "aa7e675f",
   "metadata": {},
   "outputs": [
    {
     "name": "stdout",
     "output_type": "stream",
     "text": [
      "vader_sentiment\n",
      " 0    466\n",
      " 1    372\n",
      "-1    162\n",
      "Name: count, dtype: int64\n"
     ]
    }
   ],
   "source": [
    "# Count the number of occurrences of each sentiment label (-1, 0, 1)\n",
    "sentiment_counts = ndf['vader_sentiment'].value_counts()\n",
    "\n",
    "# Print the counts\n",
    "print(sentiment_counts)"
   ]
  },
  {
   "cell_type": "code",
   "execution_count": 53,
   "id": "bfbc0b06",
   "metadata": {},
   "outputs": [],
   "source": [
    "# Keywords associated with each party\n",
    "bjp_keywords = ['bjp', 'narendramodi', 'amitshah', 'modi']\n",
    "inc_keywords = ['congress', 'rahulgandhi', 'inc', 'soniagandhi']\n"
   ]
  },
  {
   "cell_type": "code",
   "execution_count": 54,
   "id": "817dbbc9",
   "metadata": {},
   "outputs": [],
   "source": [
    "# Filter DataFrame based on presence of keywords\n",
    "bjpdf = ndf1[ndf['cleaned_text'].apply(lambda x: any(keyword in x.lower() for keyword in bjp_keywords))]\n",
    "incdf = ndf1[ndf['cleaned_text'].apply(lambda x: any(keyword in x.lower() for keyword in inc_keywords))]\n"
   ]
  },
  {
   "cell_type": "code",
   "execution_count": 55,
   "id": "20eb08d4",
   "metadata": {},
   "outputs": [
    {
     "data": {
      "text/html": [
       "<div>\n",
       "<style scoped>\n",
       "    .dataframe tbody tr th:only-of-type {\n",
       "        vertical-align: middle;\n",
       "    }\n",
       "\n",
       "    .dataframe tbody tr th {\n",
       "        vertical-align: top;\n",
       "    }\n",
       "\n",
       "    .dataframe thead th {\n",
       "        text-align: right;\n",
       "    }\n",
       "</style>\n",
       "<table border=\"1\" class=\"dataframe\">\n",
       "  <thead>\n",
       "    <tr style=\"text-align: right;\">\n",
       "      <th></th>\n",
       "      <th>cleaned_text</th>\n",
       "      <th>sentiment_label</th>\n",
       "      <th>vader_sentiment</th>\n",
       "    </tr>\n",
       "  </thead>\n",
       "  <tbody>\n",
       "    <tr>\n",
       "      <th>0</th>\n",
       "      <td>South India 2024 Loksabha Opinion Poll 132 sea...</td>\n",
       "      <td>0</td>\n",
       "      <td>1</td>\n",
       "    </tr>\n",
       "    <tr>\n",
       "      <th>1</th>\n",
       "      <td>Veteran actor Nana Patekar say alternative BJP...</td>\n",
       "      <td>1</td>\n",
       "      <td>1</td>\n",
       "    </tr>\n",
       "    <tr>\n",
       "      <th>2</th>\n",
       "      <td>South India BJP 2019 Loksabha Karnataka 25 Tel...</td>\n",
       "      <td>0</td>\n",
       "      <td>1</td>\n",
       "    </tr>\n",
       "    <tr>\n",
       "      <th>4</th>\n",
       "      <td>Total number time MMS lok sabha seat ZERO Henc...</td>\n",
       "      <td>0</td>\n",
       "      <td>1</td>\n",
       "    </tr>\n",
       "    <tr>\n",
       "      <th>7</th>\n",
       "      <td>unhappy upset anyone party stand INDIA allianc...</td>\n",
       "      <td>0</td>\n",
       "      <td>-1</td>\n",
       "    </tr>\n",
       "  </tbody>\n",
       "</table>\n",
       "</div>"
      ],
      "text/plain": [
       "                                        cleaned_text  sentiment_label  \\\n",
       "0  South India 2024 Loksabha Opinion Poll 132 sea...                0   \n",
       "1  Veteran actor Nana Patekar say alternative BJP...                1   \n",
       "2  South India BJP 2019 Loksabha Karnataka 25 Tel...                0   \n",
       "4  Total number time MMS lok sabha seat ZERO Henc...                0   \n",
       "7  unhappy upset anyone party stand INDIA allianc...                0   \n",
       "\n",
       "   vader_sentiment  \n",
       "0                1  \n",
       "1                1  \n",
       "2                1  \n",
       "4                1  \n",
       "7               -1  "
      ]
     },
     "execution_count": 55,
     "metadata": {},
     "output_type": "execute_result"
    }
   ],
   "source": [
    "bjpdf.head()"
   ]
  },
  {
   "cell_type": "code",
   "execution_count": 56,
   "id": "ec5c5d0a",
   "metadata": {},
   "outputs": [
    {
     "data": {
      "image/png": "[encoded data removed]",
      "text/plain": [
       "<Figure size 640x480 with 1 Axes>"
      ]
     },
     "metadata": {},
     "output_type": "display_data"
    },
    {
     "data": {
      "image/png": "[encoded data removed]",
      "text/plain": [
       "<Figure size 640x480 with 1 Axes>"
      ]
     },
     "metadata": {},
     "output_type": "display_data"
    }
   ],
   "source": [
    "import matplotlib.pyplot as plt\n",
    "\n",
    "# Function to plot pie chart for sentiment distribution\n",
    "def plot_sentiment_distribution(df, title):\n",
    "    sentiment_counts = df['vader_sentiment'].value_counts()\n",
    "    fig, ax = plt.subplots()\n",
    "    ax.pie(sentiment_counts, labels = sentiment_counts.index, autopct='%1.1f%%', startangle=90)\n",
    "    ax.axis('equal')  # Equal aspect ratio ensures the pie chart is circular.\n",
    "    plt.title(title)\n",
    "    plt.show()\n",
    "\n",
    "# Plotting pie chart for BJP-related tweets\n",
    "plot_sentiment_distribution(bjpdf, 'BJP Tweet Sentiment Distribution')\n",
    "\n",
    "# Plotting pie chart for INC-related tweets\n",
    "plot_sentiment_distribution(incdf, 'INC Tweet Sentiment Distribution')\n"
   ]
  },
  {
   "cell_type": "code",
   "execution_count": 57,
   "id": "0b2bd3c0",
   "metadata": {},
   "outputs": [
    {
     "data": {
      "text/plain": [
       "<bound method DataFrame.info of                                           cleaned_text  sentiment_label  \\\n",
       "0    South India 2024 Loksabha Opinion Poll 132 sea...                0   \n",
       "1    Veteran actor Nana Patekar say alternative BJP...                1   \n",
       "2    South India BJP 2019 Loksabha Karnataka 25 Tel...                0   \n",
       "4    Total number time MMS lok sabha seat ZERO Henc...                0   \n",
       "7    unhappy upset anyone party stand INDIA allianc...                0   \n",
       "..                                                 ...              ...   \n",
       "988  Modi ji ko kya ho gya aaj santa claus lgta hai...                0   \n",
       "989  wrong prediction NDA set win 80 lok sabha seat...                0   \n",
       "994  love Indian army never pass without like post ...                0   \n",
       "996  reverse TMC face huge antiincumbancy hindu vot...                0   \n",
       "998  Bhai tumhari inhi harkato ki vjh se Pilot saab...                0   \n",
       "\n",
       "     vader_sentiment  \n",
       "0                  1  \n",
       "1                  1  \n",
       "2                  1  \n",
       "4                  1  \n",
       "7                 -1  \n",
       "..               ...  \n",
       "988                1  \n",
       "989                1  \n",
       "994                1  \n",
       "996                1  \n",
       "998                0  \n",
       "\n",
       "[309 rows x 3 columns]>"
      ]
     },
     "execution_count": 57,
     "metadata": {},
     "output_type": "execute_result"
    }
   ],
   "source": [
    "bjpdf.info"
   ]
  },
  {
   "cell_type": "code",
   "execution_count": 58,
   "id": "19d166a8",
   "metadata": {},
   "outputs": [
    {
     "data": {
      "text/plain": [
       "<bound method DataFrame.info of                                           cleaned_text  sentiment_label  \\\n",
       "0    South India 2024 Loksabha Opinion Poll 132 sea...                0   \n",
       "2    South India BJP 2019 Loksabha Karnataka 25 Tel...                0   \n",
       "32   Aam Aadmi Party National Organization General ...                0   \n",
       "40   Yatnal talk Kharge join congress contest Loksa...                0   \n",
       "47   WATCH Congress General Secretary incharge Comm...                0   \n",
       "..                                                 ...              ...   \n",
       "974  Banerjee suspend Lok Sabha term mimicry art fo...                0   \n",
       "987  year 1998 BJP single largest party NDA stronge...                0   \n",
       "989  wrong prediction NDA set win 80 lok sabha seat...                0   \n",
       "995  make sure Congress put dummy candidate Chevell...                0   \n",
       "996  reverse TMC face huge antiincumbancy hindu vot...                0   \n",
       "\n",
       "     vader_sentiment  \n",
       "0                  1  \n",
       "2                  1  \n",
       "32                 1  \n",
       "40                 1  \n",
       "47                 1  \n",
       "..               ...  \n",
       "974               -1  \n",
       "987                1  \n",
       "989                1  \n",
       "995                1  \n",
       "996                1  \n",
       "\n",
       "[193 rows x 3 columns]>"
      ]
     },
     "execution_count": 58,
     "metadata": {},
     "output_type": "execute_result"
    }
   ],
   "source": [
    "incdf.info"
   ]
  },
  {
   "cell_type": "code",
   "execution_count": 59,
   "id": "51c969f8",
   "metadata": {},
   "outputs": [],
   "source": [
    "# Sample 180 rows randomly from bjpdf\n",
    "bjp_sampled = bjpdf.sample(n=180, random_state=42)  # random_state for reproducibility\n"
   ]
  },
  {
   "cell_type": "code",
   "execution_count": 60,
   "id": "fa97cf64",
   "metadata": {},
   "outputs": [
    {
     "data": {
      "image/png": "[encoded data removed]",
      "text/plain": [
       "<Figure size 640x480 with 1 Axes>"
      ]
     },
     "metadata": {},
     "output_type": "display_data"
    }
   ],
   "source": [
    "plot_sentiment_distribution(bjp_sampled, 'bjp Tweet Sentiment Distribution')\n"
   ]
  },
  {
   "cell_type": "code",
   "execution_count": null,
   "id": "95c3484e",
   "metadata": {},
   "outputs": [],
   "source": []
  }
 ],
 "metadata": {
  "kernelspec": {
   "display_name": "Python 3 (ipykernel)",
   "language": "python",
   "name": "python3"
  },
  "language_info": {
   "codemirror_mode": {
    "name": "ipython",
    "version": 3
   },
   "file_extension": ".py",
   "mimetype": "text/x-python",
   "name": "python",
   "nbconvert_exporter": "python",
   "pygments_lexer": "ipython3",
   "version": "3.11.5"
  }
 },
 "nbformat": 4,
 "nbformat_minor": 5
}
